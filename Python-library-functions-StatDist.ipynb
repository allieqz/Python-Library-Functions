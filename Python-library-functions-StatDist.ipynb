{
 "cells": [
  {
   "cell_type": "markdown",
   "metadata": {},
   "source": [
    "Python Library Functions\n",
    "==\n",
    "Statistical Distributions\n",
    "------"
   ]
  },
  {
   "cell_type": "code",
   "execution_count": 1,
   "metadata": {
    "collapsed": false
   },
   "outputs": [
    {
     "data": {
      "text/plain": [
       "24"
      ]
     },
     "execution_count": 1,
     "metadata": {},
     "output_type": "execute_result"
    }
   ],
   "source": [
    "# Factorial Function\n",
    "def factorial(n):\n",
    "    if n < 0:\n",
    "        print \"n is a non-negative integer\"\n",
    "        return None\n",
    "    if n == 0:\n",
    "        return 1\n",
    "    else:\n",
    "        f = 1\n",
    "        for i in range(1, n + 1):\n",
    "            f *= i\n",
    "        return f\n",
    "factorial(4)"
   ]
  },
  {
   "cell_type": "code",
   "execution_count": 2,
   "metadata": {
    "collapsed": false
   },
   "outputs": [
    {
     "data": {
      "text/plain": [
       "120"
      ]
     },
     "execution_count": 2,
     "metadata": {},
     "output_type": "execute_result"
    }
   ],
   "source": [
    "# Combination\n",
    "def combination(N, n):\n",
    "    f_N = factorial(N)\n",
    "    f_n = factorial(n)\n",
    "    f_Nn = factorial(N-n)\n",
    "    return f_N / (f_n * f_Nn)\n",
    "combination(10, 3)"
   ]
  },
  {
   "cell_type": "code",
   "execution_count": 3,
   "metadata": {
    "collapsed": false
   },
   "outputs": [
    {
     "data": {
      "text/plain": [
       "720"
      ]
     },
     "execution_count": 3,
     "metadata": {},
     "output_type": "execute_result"
    }
   ],
   "source": [
    "# Permutation\n",
    "def permutation(N, n):\n",
    "    f_N = factorial(N)\n",
    "    f_Nn = factorial(N-n)\n",
    "    return f_N / f_Nn\n",
    "permutation(10, 3)"
   ]
  },
  {
   "cell_type": "markdown",
   "metadata": {},
   "source": [
    "Discrete Distributions: Binominal Distribution\n",
    "------\n",
    "Suppose a biased coin comes up heads with probability 0.3 when tossed. \n",
    "What is the probability of achieving 0 heads after six tosses?"
   ]
  },
  {
   "cell_type": "code",
   "execution_count": 4,
   "metadata": {
    "collapsed": false
   },
   "outputs": [
    {
     "data": {
      "text/plain": [
       "0.11764899999999996"
      ]
     },
     "execution_count": 4,
     "metadata": {},
     "output_type": "execute_result"
    }
   ],
   "source": [
    "# NOTE: boolean = False is a probability distribution mass, boolean = True is cumulative probability\n",
    "def binominal_dist(n, p, x, boolean):\n",
    "    if boolean == False:\n",
    "        comb = combination(n, x)\n",
    "        pmf = comb * p**x * (1 - p)** (n - x)\n",
    "        return pmf\n",
    "    else:\n",
    "        cdf = 0\n",
    "        for r in range(0, x + 1):\n",
    "            combination_r = combination(n, r)\n",
    "            cdf += combination_r * p**r * (1 - p)**(n - r)\n",
    "        return cdf\n",
    "binominal_dist(6, 0.3, 0, False)"
   ]
  },
  {
   "cell_type": "markdown",
   "metadata": {},
   "source": [
    "Discrete Distributions: Poisson Distribution\n",
    "------\n",
    "On a particular river, overflow floods occur once every 100 years on average. \n",
    "Because the average event rate is one overflow flood per 100 years, mu = 1.\n",
    "Calculate the probability of 2 overflow floods in a 100-year interval."
   ]
  },
  {
   "cell_type": "code",
   "execution_count": 5,
   "metadata": {
    "collapsed": false
   },
   "outputs": [
    {
     "data": {
      "text/plain": [
       "0.18393984431331578"
      ]
     },
     "execution_count": 5,
     "metadata": {},
     "output_type": "execute_result"
    }
   ],
   "source": [
    "# NOTE: boolean = False is a probability distribution mass, boolean = True is cumulative probability\n",
    "def poisson_dist(mu, x, boolean):\n",
    "    if boolean == False:\n",
    "        f_x = factorial(x)\n",
    "        pmf = (mu**x * 2.71828**(-mu)) / f_x\n",
    "        return pmf\n",
    "    else:\n",
    "        cdf = 0\n",
    "        for r in range(0, x + 1):\n",
    "            f_r = factorial(r)\n",
    "            cdf += (mu**r * 2.71828**(-mu)) / f_r\n",
    "        return cdf\n",
    "poisson_dist(1, 2, False)"
   ]
  },
  {
   "cell_type": "markdown",
   "metadata": {},
   "source": [
    "Discrete Distributions: Hypergeometric Distribution\n",
    "------\n",
    "Electric fuses are packaged in boxes of 12 units each. \n",
    "Suppose that inspector randomly selects 3 out of 12 fuses in a box for testing.\n",
    "If the box contains exactly 5 defective fuses, what is the probability that no more than 1 of the 3 defective fuses are found?"
   ]
  },
  {
   "cell_type": "code",
   "execution_count": 6,
   "metadata": {
    "collapsed": false
   },
   "outputs": [
    {
     "data": {
      "text/plain": [
       "0.6363636363636364"
      ]
     },
     "execution_count": 6,
     "metadata": {},
     "output_type": "execute_result"
    }
   ],
   "source": [
    "# NOTE: boolean = False is a probability distribution mass, boolean = True is cumulative probability\n",
    "def hypergeometric_dist(N, r, n, x, boolean):\n",
    "    if boolean == False:\n",
    "        combination_rx = combination(r, x)\n",
    "        combination_Nrnx = combination(N-r, n-x)\n",
    "        combination_Nn = combination(N, n)\n",
    "        pmf = (combination_rx * combination_Nrnx) / float(combination_Nn)\n",
    "        return pmf\n",
    "    else:\n",
    "        # this part was coded for the sake of learning and practice\n",
    "        cdf = 0\n",
    "        for y in range(0, x + 1):\n",
    "            f_r = 1\n",
    "            for i in range(1, r + 1):\n",
    "                f_r = f_r * i\n",
    "            f_y = 1\n",
    "            for k in range(1, y + 1):\n",
    "                f_y = f_y * k\n",
    "            f_ry = 1\n",
    "            for l in range(1, (r - y) + 1):\n",
    "                f_ry = f_ry * l\n",
    "            combination_ry = f_r / (f_y * f_ry)\n",
    "            f_N = 1\n",
    "            for i in range(1, N + 1):\n",
    "                f_N = f_N * i\n",
    "            f_n = 1\n",
    "            for k in range(1, n + 1):\n",
    "                f_n = f_n * k\n",
    "            f_Nn = 1\n",
    "            for l in range(1, (N - n) + 1):\n",
    "                f_Nn = f_Nn * l\n",
    "            combination_Nn = f_N / (f_n * f_Nn)\n",
    "            f_Nr = 1\n",
    "            for i in range(1, N - r + 1):\n",
    "                f_Nr = f_Nr * i\n",
    "            f_ny = 1\n",
    "            for k in range(1, n - y + 1):\n",
    "                f_ny = f_ny * k\n",
    "            f_Nrny = 1\n",
    "            for l in range(1, ((N - r) - (n - y)) + 1):\n",
    "                f_Nrny = f_Nrny * l\n",
    "            combination_Nrny = f_Nr / (f_ny * f_Nrny)\n",
    "            cdf += (combination_ry * combination_Nrny) / float(combination_Nn)\n",
    "        return cdf\n",
    "hypergeometric_dist(12, 5, 3, 1, True)"
   ]
  },
  {
   "cell_type": "markdown",
   "metadata": {},
   "source": [
    "Continuous Distributions: Uniform Distribution\n",
    "------\n",
    "Assume that the probability disctribution for minutes of programming of a 30-min sitcom\n",
    "can be approximated by a uniform distribution from 18 to 26 mins.\n",
    "What is the pobability that a sitcom will have between 21 and 25 mins of programing [21,25]?"
   ]
  },
  {
   "cell_type": "code",
   "execution_count": 7,
   "metadata": {
    "collapsed": false
   },
   "outputs": [
    {
     "data": {
      "text/plain": [
       "0.5"
      ]
     },
     "execution_count": 7,
     "metadata": {},
     "output_type": "execute_result"
    }
   ],
   "source": [
    "# NOTE: boolean = False is probability density function, boolean = True is cumulative probability\n",
    "def uniform_dist(a, b, x, boolean):\n",
    "    if a >= b:\n",
    "        print \"In the arrival interval (a) should be smaller than (b)\"\n",
    "        return None\n",
    "    else:\n",
    "        if x >= a and x <= b:\n",
    "            if boolean == False:\n",
    "                pdf = 1 / float(b - a)\n",
    "                return pdf\n",
    "            else:\n",
    "                cdf = (x - a) * (1 / float(b - a))\n",
    "                return cdf\n",
    "        else:\n",
    "            return 0\n",
    "uniform_dist(18, 26, 25, True) - uniform_dist(18, 26, 21, True)"
   ]
  },
  {
   "cell_type": "markdown",
   "metadata": {},
   "source": [
    "Continuous Distributions: Exponential Distribution\n",
    "------\n",
    "Assume that it takes 15 mins on average to load the truck at the given loading dock. \n",
    "What is the probability that loading the truck will take 6 mins or less?"
   ]
  },
  {
   "cell_type": "code",
   "execution_count": 8,
   "metadata": {
    "collapsed": false
   },
   "outputs": [
    {
     "data": {
      "text/plain": [
       "0.32967977360729606"
      ]
     },
     "execution_count": 8,
     "metadata": {},
     "output_type": "execute_result"
    }
   ],
   "source": [
    "# NOTE: boolean = False is probability density function, boolean = True is cumulative probability\n",
    "def exponential_dist(mu, x, boolean):\n",
    "    if x >= 0:\n",
    "        if boolean == False:\n",
    "            pdf = (1 / float(mu)) * 2.71828**(-x/float(mu))\n",
    "            return pdf\n",
    "        else:\n",
    "            cdf = 1 - 2.71828**(-x/float(mu))\n",
    "            return cdf\n",
    "    else:\n",
    "        print \"x should be >= 0\"\n",
    "        return None\n",
    "exponential_dist(15, 6, True)"
   ]
  }
 ],
 "metadata": {
  "anaconda-cloud": {},
  "kernelspec": {
   "display_name": "Python [Root]",
   "language": "python",
   "name": "Python [Root]"
  },
  "language_info": {
   "codemirror_mode": {
    "name": "ipython",
    "version": 2
   },
   "file_extension": ".py",
   "mimetype": "text/x-python",
   "name": "python",
   "nbconvert_exporter": "python",
   "pygments_lexer": "ipython2",
   "version": "2.7.12"
  }
 },
 "nbformat": 4,
 "nbformat_minor": 0
}
