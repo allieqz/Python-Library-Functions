{
 "cells": [
  {
   "cell_type": "markdown",
   "metadata": {},
   "source": [
    "Python Library Functions\n",
    "==\n",
    "Descriptive Statistics\n",
    "------"
   ]
  },
  {
   "cell_type": "code",
   "execution_count": 1,
   "metadata": {
    "collapsed": false
   },
   "outputs": [
    {
     "data": {
      "text/plain": [
       "16.428571428571427"
      ]
     },
     "execution_count": 1,
     "metadata": {},
     "output_type": "execute_result"
    }
   ],
   "source": [
    "# Mean\n",
    "L = [2, 11, 4, 5, 7, 8, 13, 9, 10, 14, 14, 17, 17, 99]\n",
    "def mean(L):\n",
    "    return sum(L) / float(len(L))\n",
    "mean(L)"
   ]
  },
  {
   "cell_type": "code",
   "execution_count": 2,
   "metadata": {
    "collapsed": false
   },
   "outputs": [
    {
     "name": "stdout",
     "output_type": "stream",
     "text": [
      "10.5\n"
     ]
    }
   ],
   "source": [
    "# Median\n",
    "def median(L):\n",
    "    L.sort()\n",
    "    if len(L) < 1:\n",
    "            return None\n",
    "    if len(L) %2 == 1:\n",
    "            return L[((len(L)+1)/2)-1]\n",
    "    else:\n",
    "            return float(sum(L[(len(L)/2)-1:(len(L)/2)+1]))/2.0\n",
    "print median(L)"
   ]
  },
  {
   "cell_type": "code",
   "execution_count": 3,
   "metadata": {
    "collapsed": false
   },
   "outputs": [
    {
     "data": {
      "text/plain": [
       "[14, 17]"
      ]
     },
     "execution_count": 3,
     "metadata": {},
     "output_type": "execute_result"
    }
   ],
   "source": [
    "# Multiple Modes\n",
    "def mode(L):\n",
    "    d = {}\n",
    "    m = []\n",
    "    for element in range(len(L)):\n",
    "        value = L.count(L[element])\n",
    "        d.update({L[element]:value})\n",
    "    while max(d.values()) == 1:\n",
    "            print \"All numbers occur only once\"\n",
    "            break\n",
    "    else:\n",
    "        for i in d:\n",
    "            if d[i] == max(d.values()):\n",
    "                m.append(i)\n",
    "        return m\n",
    "mode(L)"
   ]
  },
  {
   "cell_type": "code",
   "execution_count": 4,
   "metadata": {
    "collapsed": false
   },
   "outputs": [
    {
     "data": {
      "text/plain": [
       "9"
      ]
     },
     "execution_count": 4,
     "metadata": {},
     "output_type": "execute_result"
    }
   ],
   "source": [
    "# Percentile\n",
    "def percentile(L, p):\n",
    "    L.sort()\n",
    "    p = float(p)\n",
    "    if p >= 0 and p <= 100:\n",
    "        if float((p/100)*len(L)) % 1 == 0:\n",
    "            return (L[int((p/100)*len(L))]+n[int((p/100)*len(L))]-1)/2.0\n",
    "        else:\n",
    "            return L[int((p/100)*len(L))]\n",
    "    else:\n",
    "        print \"Input has to be a positive number less or equals to 100\"\n",
    "percentile(L, 40)"
   ]
  },
  {
   "cell_type": "code",
   "execution_count": 5,
   "metadata": {
    "collapsed": false
   },
   "outputs": [
    {
     "data": {
      "text/plain": [
       "7"
      ]
     },
     "execution_count": 5,
     "metadata": {},
     "output_type": "execute_result"
    }
   ],
   "source": [
    "# Quartile\n",
    "def quartile(L, q):\n",
    "    L.sort()\n",
    "    if q == 1:\n",
    "        if float(0.25*len(L)) % 1 == 0:\n",
    "            return (L[int(0.25*len(L))]+L[int(0.25*len(L))-1])/2.0\n",
    "        else:\n",
    "            return L[int(0.25*len(L))]\n",
    "    if q == 2:\n",
    "        if float(0.5*len(L)) % 1 == 0:\n",
    "            return (L[int(0.5*len(L))]+L[int(0.5*len(L))-1])/2.0\n",
    "        else:\n",
    "            return L[int(0.5*len(L))]\n",
    "    if q == 3:\n",
    "        if float(0.75*len(L)) % 1 == 0:\n",
    "            return (L[int(0.75*len(L))]+L[int(0.75*len(L))-1])/2.0\n",
    "        else:\n",
    "            return L[int(0.75*len(L))]\n",
    "    else:\n",
    "        print \"Please, select 1, 2 or 3 for quartile\"\n",
    "quartile(L, 1)"
   ]
  },
  {
   "cell_type": "code",
   "execution_count": 6,
   "metadata": {
    "collapsed": false
   },
   "outputs": [
    {
     "data": {
      "text/plain": [
       "7"
      ]
     },
     "execution_count": 6,
     "metadata": {},
     "output_type": "execute_result"
    }
   ],
   "source": [
    "# Interquartile Range (IQR)\n",
    "def iqr(L):\n",
    "    return quartile(L, 3) - quartile (L, 1)\n",
    "iqr(L)"
   ]
  },
  {
   "cell_type": "code",
   "execution_count": 7,
   "metadata": {
    "collapsed": false
   },
   "outputs": [
    {
     "data": {
      "text/plain": [
       "544.3877551020407"
      ]
     },
     "execution_count": 7,
     "metadata": {},
     "output_type": "execute_result"
    }
   ],
   "source": [
    "# Population Variance\n",
    "def var_p(L):\n",
    "    avg = mean(L)\n",
    "    sumdiff = 0\n",
    "    for element in range(len(L)):\n",
    "        sumdiff += (float(L[element]) - avg)**2\n",
    "    var = sumdiff / float(len(L))\n",
    "    return var\n",
    "var_p(L)"
   ]
  },
  {
   "cell_type": "code",
   "execution_count": 8,
   "metadata": {
    "collapsed": false
   },
   "outputs": [
    {
     "data": {
      "text/plain": [
       "23.332118530087246"
      ]
     },
     "execution_count": 8,
     "metadata": {},
     "output_type": "execute_result"
    }
   ],
   "source": [
    "# Population St Deviation\n",
    "def std_p(L):\n",
    "    var = var_p(L)\n",
    "    return var ** 0.5\n",
    "std_p(L)"
   ]
  },
  {
   "cell_type": "code",
   "execution_count": 9,
   "metadata": {
    "collapsed": false
   },
   "outputs": [
    {
     "data": {
      "text/plain": [
       "586.2637362637362"
      ]
     },
     "execution_count": 9,
     "metadata": {},
     "output_type": "execute_result"
    }
   ],
   "source": [
    "# Sample Variance\n",
    "def var_s(L):\n",
    "    avg = mean(L)\n",
    "    sumdiff = 0\n",
    "    for element in range(len(L)):\n",
    "        sumdiff += (float(L[element]) - avg)**2\n",
    "    var = sumdiff / float((len(L)) - 1)\n",
    "    return var\n",
    "var_s(L)"
   ]
  },
  {
   "cell_type": "code",
   "execution_count": 10,
   "metadata": {
    "collapsed": false
   },
   "outputs": [
    {
     "data": {
      "text/plain": [
       "24.212883683356186"
      ]
     },
     "execution_count": 10,
     "metadata": {},
     "output_type": "execute_result"
    }
   ],
   "source": [
    "# Sample St Deviation\n",
    "def std_s(L):\n",
    "    var = var_s(L)\n",
    "    return var ** 0.5\n",
    "std_s(L)"
   ]
  },
  {
   "cell_type": "code",
   "execution_count": 11,
   "metadata": {
    "collapsed": false
   },
   "outputs": [
    {
     "data": {
      "text/plain": [
       "3.5038415064922357"
      ]
     },
     "execution_count": 11,
     "metadata": {},
     "output_type": "execute_result"
    }
   ],
   "source": [
    "# Skewness\n",
    "def skewness(L):\n",
    "    avg = mean(L)\n",
    "    std = std_s(L)\n",
    "    sumdiffbystd_s = 0\n",
    "    for element in range(len(L)):\n",
    "        sumdiffbystd_s += ((float(L[element]) - avg) / std) ** 3\n",
    "    return len(L) / float((len(L) - 1) * (len(L) - 2)) * sumdiffbystd_s\n",
    "skewness(L)"
   ]
  },
  {
   "cell_type": "code",
   "execution_count": 12,
   "metadata": {
    "collapsed": false
   },
   "outputs": [
    {
     "data": {
      "text/plain": [
       "-0.10030079276516803"
      ]
     },
     "execution_count": 12,
     "metadata": {},
     "output_type": "execute_result"
    }
   ],
   "source": [
    "# Z-score\n",
    "def z_score(L, x):\n",
    "    avg = mean(L)\n",
    "    sumdiff = 0\n",
    "    std = std_s(L)\n",
    "    return (float(x) - avg) / std\n",
    "z_score(L,14)"
   ]
  },
  {
   "cell_type": "code",
   "execution_count": 13,
   "metadata": {
    "collapsed": false
   },
   "outputs": [
    {
     "data": {
      "text/plain": [
       "[99]"
      ]
     },
     "execution_count": 13,
     "metadata": {},
     "output_type": "execute_result"
    }
   ],
   "source": [
    "# Outlier based on z-score\n",
    "def outlier_z(L):\n",
    "    list_outlier = []\n",
    "    for element in range(len(L)):\n",
    "        z_element = z_score(L, L[element])\n",
    "        if z_element > 3.0 or z_element < -3.0:\n",
    "            list_outlier.append(L[element])\n",
    "    return list_outlier\n",
    "outlier_z(L)"
   ]
  },
  {
   "cell_type": "code",
   "execution_count": 14,
   "metadata": {
    "collapsed": false
   },
   "outputs": [
    {
     "data": {
      "text/plain": [
       "[99]"
      ]
     },
     "execution_count": 14,
     "metadata": {},
     "output_type": "execute_result"
    }
   ],
   "source": [
    "# Outlier based on IQR\n",
    "def outlier_iqr(n):\n",
    "    Q1 = quartile(L,1)\n",
    "    Q3 = quartile(L,3)\n",
    "    IQR = iqr(L)\n",
    "    list_iqr_outlier = []\n",
    "    for element in range(len(L)):\n",
    "        if L[element] < Q1 - 1.5 * IQR or L[element] > Q3 + 1.5 * IQR:\n",
    "            list_iqr_outlier.append(L[element])\n",
    "        else:\n",
    "            None\n",
    "    return list_iqr_outlier\n",
    "outlier_iqr(L)"
   ]
  },
  {
   "cell_type": "code",
   "execution_count": 15,
   "metadata": {
    "collapsed": false
   },
   "outputs": [
    {
     "data": {
      "text/plain": [
       "3.97802197802197"
      ]
     },
     "execution_count": 15,
     "metadata": {},
     "output_type": "execute_result"
    }
   ],
   "source": [
    "# Sample covariance\n",
    "x = [2, 4, 5, 20, 25, 8, 9, 10, 11, 13, 14, 17, 56, 67]\n",
    "y = [1, 9, 11, 20, 21, 2, 5, 6, 77, 1, 4, 5, 12, 10]\n",
    "def cov_s(x, y):\n",
    "    mean_x = mean(x)\n",
    "    mean_y = mean(y)\n",
    "    sumdifftwo = 0\n",
    "    for element in range(len(x)):\n",
    "        sumdifftwo += (float(x[element]) - mean_x) * (float(y[element]) - mean_y)\n",
    "    return sumdifftwo / (len(x) -1)\n",
    "cov_s(x, y)"
   ]
  },
  {
   "cell_type": "code",
   "execution_count": 16,
   "metadata": {
    "collapsed": false
   },
   "outputs": [
    {
     "data": {
      "text/plain": [
       "0.010602876848776524"
      ]
     },
     "execution_count": 16,
     "metadata": {},
     "output_type": "execute_result"
    }
   ],
   "source": [
    "# Sample Pearson correlation coefficient\n",
    "def r_pearson_s(x, y):\n",
    "    cov = cov_s(x, y)\n",
    "    std_x = std_s(x)\n",
    "    std_y = std_s(y)\n",
    "    return cov / (std_x * std_y)\n",
    "r_pearson_s(x, y)"
   ]
  }
 ],
 "metadata": {
  "anaconda-cloud": {},
  "kernelspec": {
   "display_name": "Python [Root]",
   "language": "python",
   "name": "Python [Root]"
  },
  "language_info": {
   "codemirror_mode": {
    "name": "ipython",
    "version": 2
   },
   "file_extension": ".py",
   "mimetype": "text/x-python",
   "name": "python",
   "nbconvert_exporter": "python",
   "pygments_lexer": "ipython2",
   "version": "2.7.12"
  }
 },
 "nbformat": 4,
 "nbformat_minor": 0
}
